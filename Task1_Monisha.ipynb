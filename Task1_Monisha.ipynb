{
  "nbformat": 4,
  "nbformat_minor": 0,
  "metadata": {
    "colab": {
      "provenance": []
    },
    "kernelspec": {
      "name": "python3",
      "display_name": "Python 3"
    },
    "language_info": {
      "name": "python"
    }
  },
  "cells": [
    {
      "cell_type": "code",
      "execution_count": null,
      "metadata": {
        "id": "6b9SzFyttadN"
      },
      "outputs": [],
      "source": []
    },
    {
      "cell_type": "code",
      "source": [
        "my_list=[1,2,4,5]\n",
        "my_list.append(6)\n",
        "my_list.remove(2)\n",
        "my_list[0]=11\n",
        "print(my_list)"
      ],
      "metadata": {
        "colab": {
          "base_uri": "https://localhost:8080/"
        },
        "id": "m4iqwB2NxZbv",
        "outputId": "658e703f-e519-456b-fbf7-e5a8da2ca53d"
      },
      "execution_count": null,
      "outputs": [
        {
          "output_type": "stream",
          "name": "stdout",
          "text": [
            "[11, 4, 5, 6]\n"
          ]
        }
      ]
    },
    {
      "cell_type": "code",
      "source": [
        "my_dict={'name':'Monisha', 'age':22}\n",
        "my_dict['name']='ABC'\n",
        "del my_dict['age']\n",
        "my_dict['city']='Mumbai'\n",
        "print(my_dict)\n"
      ],
      "metadata": {
        "id": "AcXVosPs1DkR",
        "colab": {
          "base_uri": "https://localhost:8080/"
        },
        "outputId": "7097b800-3b25-4c8e-c265-57fdfb25ef5e"
      },
      "execution_count": 2,
      "outputs": [
        {
          "output_type": "stream",
          "name": "stdout",
          "text": [
            "{'name': 'ABC', 'city': 'Mumbai'}\n"
          ]
        }
      ]
    },
    {
      "cell_type": "code",
      "source": [
        "my_set={1,3,5,7}\n",
        "my_set.add(9)\n",
        "my_set.remove(3)\n",
        "my_set.discard(5)\n",
        "my_set.add(11)\n",
        "print(my_set)"
      ],
      "metadata": {
        "colab": {
          "base_uri": "https://localhost:8080/"
        },
        "id": "gF91O59Oo57Q",
        "outputId": "078d40dd-71c3-4561-ff76-4b425fe6777d"
      },
      "execution_count": 3,
      "outputs": [
        {
          "output_type": "stream",
          "name": "stdout",
          "text": [
            "{1, 7, 9, 11}\n"
          ]
        }
      ]
    }
  ]
}